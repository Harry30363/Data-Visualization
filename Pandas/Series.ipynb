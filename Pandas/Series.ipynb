{
 "cells": [
  {
   "cell_type": "markdown",
   "id": "27a9efab-d11d-44b2-bc37-e724401deaba",
   "metadata": {},
   "source": [
    "## Series"
   ]
  },
  {
   "cell_type": "markdown",
   "id": "2f625984-dff2-42c6-b593-fc306bb159b0",
   "metadata": {},
   "source": [
    "Series : it is defines as a one-dimensional array that is capable of storing various data types.\n",
    "a= pd.Series()"
   ]
  },
  {
   "cell_type": "code",
   "execution_count": 1,
   "id": "b3df550f-c2c3-4163-a04c-7d88515a86ed",
   "metadata": {},
   "outputs": [],
   "source": [
    "import pandas as pd"
   ]
  },
  {
   "cell_type": "code",
   "execution_count": 6,
   "id": "0099e860-f45d-4061-ae96-2acb2d40b4b3",
   "metadata": {},
   "outputs": [
    {
     "name": "stdout",
     "output_type": "stream",
     "text": [
      "0    3\n",
      "1    4\n",
      "2    5\n",
      "3    6\n",
      "4    7\n",
      "5    8\n",
      "dtype: int64\n",
      "<class 'pandas.core.series.Series'>\n",
      "5\n"
     ]
    }
   ],
   "source": [
    "x=[3,4,5,6,7,8]\n",
    "var = pd.Series(x)\n",
    "print(var)\n",
    "print(type(var))\n",
    "print(var[2])"
   ]
  },
  {
   "cell_type": "code",
   "execution_count": 8,
   "id": "c5de2183-ecd7-4fdf-b40e-b0f99425519f",
   "metadata": {
    "scrolled": true
   },
   "outputs": [
    {
     "name": "stdout",
     "output_type": "stream",
     "text": [
      "a    3.0\n",
      "s    4.0\n",
      "d    5.0\n",
      "f    6.0\n",
      "Name: python, dtype: float64\n",
      "<class 'pandas.core.series.Series'>\n",
      "5.0\n"
     ]
    },
    {
     "name": "stderr",
     "output_type": "stream",
     "text": [
      "/tmp/ipykernel_4141/3765675869.py:5: FutureWarning: Series.__getitem__ treating keys as positions is deprecated. In a future version, integer keys will always be treated as labels (consistent with DataFrame behavior). To access a value by position, use `ser.iloc[pos]`\n",
      "  print(var1[2])\n"
     ]
    }
   ],
   "source": [
    "x1=[3,4,5,6]\n",
    "var1 = pd.Series(x1,index=['a','s','d','f'],dtype=\"float\",name=\"python\")\n",
    "print(var1)\n",
    "print(type(var1))\n",
    "print(var1[2])"
   ]
  },
  {
   "cell_type": "code",
   "execution_count": 9,
   "id": "0a44a9f6-1410-42f1-ab9b-6927e516bfa8",
   "metadata": {},
   "outputs": [
    {
     "name": "stdout",
     "output_type": "stream",
     "text": [
      "name    [python, c, c++, java]\n",
      "por           [12, 13, 14, 15]\n",
      "rank              [1, 4, 3, 2]\n",
      "dtype: object\n"
     ]
    }
   ],
   "source": [
    "dic={\"name\":['python','c','c++','java'],\"por\":[12,13,14,15],\"rank\":[1,4,3,2]}\n",
    "var1=pd.Series(dic)\n",
    "print(var1)"
   ]
  },
  {
   "cell_type": "markdown",
   "id": "5e0065b0-cf65-499c-a41c-f017c84cd317",
   "metadata": {},
   "source": [
    "dtype is object because the data set ie dictonary is of mix value"
   ]
  },
  {
   "cell_type": "code",
   "execution_count": 12,
   "id": "950ba31e-d81c-4de4-a94c-81ab510f8541",
   "metadata": {},
   "outputs": [
    {
     "name": "stdout",
     "output_type": "stream",
     "text": [
      "1    12\n",
      "2    12\n",
      "3    12\n",
      "4    12\n",
      "5    12\n",
      "6    12\n",
      "7    12\n",
      "dtype: int64\n",
      "<class 'pandas.core.series.Series'>\n"
     ]
    }
   ],
   "source": [
    "s=pd.Series(12,index=[1,2,3,4,5,6,7])\n",
    "\n",
    "print(s)\n",
    "print(type(s))"
   ]
  },
  {
   "cell_type": "markdown",
   "id": "fb122628-7869-4ba1-a398-694c99acb598",
   "metadata": {},
   "source": [
    "## We can also do this all with numpy as well but why should we use pandas -, Here is the reason why;\n",
    "## Because in numpy there we get an error of broadcaste but in panda we did't get that "
   ]
  },
  {
   "cell_type": "code",
   "execution_count": null,
   "id": "c62eb2c6-f77d-458c-a92d-fc22378a7ced",
   "metadata": {},
   "outputs": [],
   "source": [
    "s1=pd.Series(12,index=[1,2,3,4,5,6,7])\n",
    "s2=pd.Series(12,index=[1,2,3,4])\n",
    "\n",
    "print(s1+s2)"
   ]
  }
 ],
 "metadata": {
  "kernelspec": {
   "display_name": "Python 3 (ipykernel)",
   "language": "python",
   "name": "python3"
  },
  "language_info": {
   "codemirror_mode": {
    "name": "ipython",
    "version": 3
   },
   "file_extension": ".py",
   "mimetype": "text/x-python",
   "name": "python",
   "nbconvert_exporter": "python",
   "pygments_lexer": "ipython3",
   "version": "3.10.13"
  }
 },
 "nbformat": 4,
 "nbformat_minor": 5
}
