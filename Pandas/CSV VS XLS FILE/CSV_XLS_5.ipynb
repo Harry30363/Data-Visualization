{
 "cells": [
  {
   "cell_type": "markdown",
   "id": "84cd3ab6-64da-4421-9fac-addae785707d",
   "metadata": {},
   "source": [
    "# Write CSV"
   ]
  },
  {
   "cell_type": "code",
   "execution_count": 5,
   "id": "4a7fb061-d2a7-4b9c-bb94-0722e6bfd567",
   "metadata": {},
   "outputs": [],
   "source": [
    "import pandas as pd\n",
    "dis={\"a\":[1,2,3,4,5],\"k\":[1,2,3,4,5],\"l\":[6,7,8,9,0]}\n",
    "d=pd.DataFrame(dis)\n",
    "d\n",
    "\n",
    "d.to_csv(\"Test_new.csv\")\n",
    "d.to_csv(\"Test_new1.csv\",index=False)\n",
    "d.to_csv(\"Test_new2.csv\",index=False,header=[1,2,3])"
   ]
  }
 ],
 "metadata": {
  "kernelspec": {
   "display_name": "Python 3 (ipykernel)",
   "language": "python",
   "name": "python3"
  },
  "language_info": {
   "codemirror_mode": {
    "name": "ipython",
    "version": 3
   },
   "file_extension": ".py",
   "mimetype": "text/x-python",
   "name": "python",
   "nbconvert_exporter": "python",
   "pygments_lexer": "ipython3",
   "version": "3.10.13"
  }
 },
 "nbformat": 4,
 "nbformat_minor": 5
}
