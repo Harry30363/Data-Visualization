{
 "cells": [
  {
   "cell_type": "markdown",
   "id": "84cd3ab6-64da-4421-9fac-addae785707d",
   "metadata": {},
   "source": [
    "# Write CSV"
   ]
  },
  {
   "cell_type": "code",
   "execution_count": 5,
   "id": "4a7fb061-d2a7-4b9c-bb94-0722e6bfd567",
   "metadata": {
    "editable": true,
    "slideshow": {
     "slide_type": ""
    },
    "tags": []
   },
   "outputs": [],
   "source": [
    "import pandas as pd\n",
    "dis={\"a\":[1,2,3,4,5],\"k\":[1,2,3,4,5],\"l\":[6,7,8,9,0]}\n",
    "d=pd.DataFrame(dis)\n",
    "\n",
    "d\n",
    "\n",
    "d.to_csv(\"Test_new.csv\")"
   ]
  },
  {
   "cell_type": "code",
   "execution_count": 6,
   "id": "6fa71511-847e-42d4-b8c1-329534f5102c",
   "metadata": {
    "editable": true,
    "slideshow": {
     "slide_type": ""
    },
    "tags": []
   },
   "outputs": [],
   "source": [
    "d.to_csv(\"Test_new1.csv\",index=False)"
   ]
  },
  {
   "cell_type": "code",
   "execution_count": null,
   "id": "a6f70f6d-a91c-4723-a8b2-9a736e7d2afc",
   "metadata": {},
   "outputs": [],
   "source": [
    "d.to_csv(\"Test_new2.csv\",index=False,header=[1,2,3])"
   ]
  }
 ],
 "metadata": {
  "kernelspec": {
   "display_name": "Python 3 (ipykernel)",
   "language": "python",
   "name": "python3"
  },
  "language_info": {
   "codemirror_mode": {
    "name": "ipython",
    "version": 3
   },
   "file_extension": ".py",
   "mimetype": "text/x-python",
   "name": "python",
   "nbconvert_exporter": "python",
   "pygments_lexer": "ipython3",
   "version": "3.10.13"
  }
 },
 "nbformat": 4,
 "nbformat_minor": 5
}
