{
 "cells": [
  {
   "cell_type": "markdown",
   "id": "4b514710-00d7-4c88-8db3-c92f5d64fa1e",
   "metadata": {},
   "source": [
    "## Insert"
   ]
  },
  {
   "cell_type": "code",
   "execution_count": 1,
   "id": "afc9de3d-a4bf-4c59-9340-fff6cc6890dd",
   "metadata": {},
   "outputs": [],
   "source": [
    "import numpy as np"
   ]
  },
  {
   "cell_type": "code",
   "execution_count": 5,
   "id": "9678484a-3b7f-4931-90cd-28fcd7673553",
   "metadata": {},
   "outputs": [
    {
     "name": "stdout",
     "output_type": "stream",
     "text": [
      "[1 2 3 4]\n",
      "[ 1  2 40  3  4]\n",
      "[ 1  2 40  3  4 40]\n",
      "[1 2 2 3 4 2]\n"
     ]
    }
   ],
   "source": [
    "var=np.array([1,2,3,4])\n",
    "\n",
    "print(var)\n",
    "v= np.insert(var, 2 , 40)\n",
    "print(v)\n",
    "v= np.insert(var, (2,4) , 40)\n",
    "print(v)\n",
    "v= np.insert(var, (2,4) , 2.2)\n",
    "print(v)"
   ]
  },
  {
   "cell_type": "code",
   "execution_count": 12,
   "id": "3ac8dd19-3def-42c0-9b87-87cbea06b336",
   "metadata": {},
   "outputs": [
    {
     "name": "stdout",
     "output_type": "stream",
     "text": [
      "[[1 2 3]\n",
      " [4 5 6]\n",
      " [6 6 6]]\n",
      "\n",
      "[[1 2 6 3]\n",
      " [4 5 6 6]]\n",
      "\n",
      "[[ 1  2  3]\n",
      " [ 4  5  6]\n",
      " [22 23 24]]\n",
      "\n",
      "Using append\n",
      "[1.  2.  3.  4.  6.5]\n"
     ]
    }
   ],
   "source": [
    "var1=np.array([[1,2,3],[4,5,6]])\n",
    "v1=np.insert(var1, 2, 6, axis=0)\n",
    "print(v1)\n",
    "print()\n",
    "v1=np.insert(var1, 2, 6, axis=1)\n",
    "print(v1)\n",
    "print()\n",
    "v1=np.insert(var1, 2, [22,23,24], axis=0)\n",
    "print(v1)\n",
    "\n",
    "print()\n",
    "print(\"Using append\")\n",
    "x=np.append(var,6.5)\n",
    "print(x)"
   ]
  },
  {
   "cell_type": "code",
   "execution_count": 14,
   "id": "6219a523-e1ce-4854-a27d-a62bd30b0cac",
   "metadata": {},
   "outputs": [
    {
     "name": "stdout",
     "output_type": "stream",
     "text": [
      "[[ 1  2  3]\n",
      " [ 4  5  6]\n",
      " [45 44 23]]\n"
     ]
    }
   ],
   "source": [
    "va1=np.array([[1,2,3],[4,5,6]])\n",
    "v1=np.append(va1,[[45,44,23]],axis=0)\n",
    "print(v1)"
   ]
  },
  {
   "cell_type": "markdown",
   "id": "bccf6783-6cfc-4819-99d8-6fb014d9e80e",
   "metadata": {},
   "source": [
    "## Delete"
   ]
  },
  {
   "cell_type": "code",
   "execution_count": 16,
   "id": "6440eb9c-b094-417d-9452-b9675a034d8b",
   "metadata": {},
   "outputs": [
    {
     "name": "stdout",
     "output_type": "stream",
     "text": [
      "[1 2 3 4]\n",
      "[1 2 4]\n"
     ]
    }
   ],
   "source": [
    "import numpy as np\n",
    "var1=np.array([1,2,3,4])\n",
    "print(var1)\n",
    "d=np.delete(var1,2)\n",
    "print(d)"
   ]
  }
 ],
 "metadata": {
  "kernelspec": {
   "display_name": "Python 3 (ipykernel)",
   "language": "python",
   "name": "python3"
  },
  "language_info": {
   "codemirror_mode": {
    "name": "ipython",
    "version": 3
   },
   "file_extension": ".py",
   "mimetype": "text/x-python",
   "name": "python",
   "nbconvert_exporter": "python",
   "pygments_lexer": "ipython3",
   "version": "3.10.13"
  }
 },
 "nbformat": 4,
 "nbformat_minor": 5
}
