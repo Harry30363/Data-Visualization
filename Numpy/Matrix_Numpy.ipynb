{
 "cells": [
  {
   "cell_type": "markdown",
   "id": "de043908-e589-4b7b-ba43-06b588162ff5",
   "metadata": {},
   "source": [
    "## Matrix"
   ]
  },
  {
   "cell_type": "code",
   "execution_count": 6,
   "id": "13212e50-d186-4108-b7ce-f87cf92d78e9",
   "metadata": {},
   "outputs": [
    {
     "name": "stdout",
     "output_type": "stream",
     "text": [
      "[[1 2]\n",
      " [1 2]]\n",
      "\n",
      "[[1 2]\n",
      " [1 2]]\n",
      "<class 'numpy.matrix'>\n",
      "\n",
      "[[3 6]\n",
      " [3 6]]\n",
      "\n",
      "[[3 6]\n",
      " [3 6]]\n"
     ]
    }
   ],
   "source": [
    "import numpy as np\n",
    "\n",
    "var=np.matrix([[1,2],[1,2]])\n",
    "var2=np.matrix([[1,2],[1,2]])\n",
    "\n",
    "print(var)\n",
    "print()\n",
    "print(var2)\n",
    "print(type(var))\n",
    "print()\n",
    "print(var*var2)\n",
    "print()\n",
    "print(var.dot(var2))"
   ]
  },
  {
   "cell_type": "code",
   "execution_count": 7,
   "id": "d44a9a03-411f-4a9b-af81-9fb10d8ce43b",
   "metadata": {},
   "outputs": [
    {
     "name": "stdout",
     "output_type": "stream",
     "text": [
      "[[1 2 3]\n",
      " [1 2 3]]\n",
      "<class 'numpy.ndarray'>\n",
      "\n",
      "[[1 4 9]\n",
      " [1 4 9]]\n"
     ]
    }
   ],
   "source": [
    "var1=np.array([[1,2,3],[1,2,3]])\n",
    "print(var1)\n",
    "print(type(var1))\n",
    "print()\n",
    "print(var1*var1)"
   ]
  },
  {
   "cell_type": "markdown",
   "id": "ed4333b2-edab-4eee-91e7-bb16ce7d53b4",
   "metadata": {},
   "source": [
    "## Transpose"
   ]
  },
  {
   "cell_type": "code",
   "execution_count": 10,
   "id": "30da6052-9891-41a5-bfe7-66789d9535db",
   "metadata": {},
   "outputs": [
    {
     "name": "stdout",
     "output_type": "stream",
     "text": [
      "[[1 2 3]\n",
      " [4 5 6]]\n",
      "\n",
      "[[1 4]\n",
      " [2 5]\n",
      " [3 6]]\n",
      "\n",
      "[[1 4]\n",
      " [2 5]\n",
      " [3 6]]\n"
     ]
    }
   ],
   "source": [
    "import numpy as np\n",
    "ar=np.matrix([[1,2,3],[4,5,6]])\n",
    "print(ar)\n",
    "print()\n",
    "print(np.transpose(ar))\n",
    "print()\n",
    "print(ar.T)"
   ]
  },
  {
   "cell_type": "markdown",
   "id": "9ae79c19-bda2-47f1-ab8e-e9c625c280be",
   "metadata": {},
   "source": [
    "## Swapaxes"
   ]
  },
  {
   "cell_type": "code",
   "execution_count": 16,
   "id": "d61c1397-401f-432b-bde3-eab2a6c2c6ea",
   "metadata": {},
   "outputs": [
    {
     "name": "stdout",
     "output_type": "stream",
     "text": [
      "[[1 4]\n",
      " [2 5]\n",
      " [3 6]]\n",
      "\n",
      "[[1 2]\n",
      " [3 4]]\n",
      "\n",
      "[[1 3]\n",
      " [2 4]]\n"
     ]
    }
   ],
   "source": [
    "ar1=np.matrix([[1,2,3],[4,5,6]])\n",
    "print(np.swapaxes(ar1,0,1))\n",
    "print()\n",
    "\n",
    "var2=np.matrix([[1,2],[3,4]])\n",
    "print(var2)\n",
    "print()\n",
    "print(np.swapaxes(var2,0,1))"
   ]
  },
  {
   "cell_type": "markdown",
   "id": "f76c0ea8-74e6-4f23-ab12-8abdbd3e513c",
   "metadata": {},
   "source": [
    "## Inverse"
   ]
  },
  {
   "cell_type": "code",
   "execution_count": 17,
   "id": "fcde42a8-c3ad-4feb-ac57-4f6dc0cfe181",
   "metadata": {},
   "outputs": [
    {
     "name": "stdout",
     "output_type": "stream",
     "text": [
      "[[1 2]\n",
      " [3 4]]\n",
      "\n",
      "[[-2.   1. ]\n",
      " [ 1.5 -0.5]]\n"
     ]
    }
   ],
   "source": [
    "var3=np.matrix([[1,2],[3,4]])\n",
    "print(var3)\n",
    "print()\n",
    "\n",
    "print(np.linalg.inv(var3))"
   ]
  },
  {
   "cell_type": "markdown",
   "id": "32167984-a107-4a4f-8488-6e3b2374540f",
   "metadata": {},
   "source": [
    "## Power"
   ]
  },
  {
   "cell_type": "raw",
   "id": "0ba3865c-ae4c-4e0d-99d4-811e30bd996d",
   "metadata": {},
   "source": [
    "np.linalg.matrix-power(var,n) n-> n<0,n=0,n>0\n",
    "n=0 : [1 0] Identity Matrix\n",
    "      [0 1] \n",
    "n>0 : power(n times multiply)\n",
    "n<0 : Inverse Power ie Inverse of Matrix"
   ]
  },
  {
   "cell_type": "code",
   "execution_count": 20,
   "id": "fe353f4e-346f-44a3-ab73-9fbfa1ea40b4",
   "metadata": {},
   "outputs": [
    {
     "name": "stdout",
     "output_type": "stream",
     "text": [
      "[[1 2]\n",
      " [3 4]]\n",
      "\n",
      "[[ 7 10]\n",
      " [15 22]]\n",
      "\n",
      "[[1 0]\n",
      " [0 1]]\n",
      "\n",
      "[[ 5.5  -2.5 ]\n",
      " [-3.75  1.75]]\n",
      "\n"
     ]
    }
   ],
   "source": [
    "var4=np.matrix([[1,2],[3,4]])\n",
    "print(var4)\n",
    "print()\n",
    "\n",
    "print(np.linalg.matrix_power(var4,2))\n",
    "print()\n",
    "\n",
    "print(np.linalg.matrix_power(var4,0))\n",
    "print()\n",
    "\n",
    "print(np.linalg.matrix_power(var4,-2))\n",
    "print()"
   ]
  },
  {
   "cell_type": "markdown",
   "id": "46dd97fe-1d01-4553-97e7-5bf4c6aa9b8e",
   "metadata": {},
   "source": [
    "## Determinate"
   ]
  },
  {
   "cell_type": "code",
   "execution_count": 25,
   "id": "fa460bee-9294-474c-ae36-b9c321da2aff",
   "metadata": {},
   "outputs": [
    {
     "name": "stdout",
     "output_type": "stream",
     "text": [
      "[[1 2]\n",
      " [3 4]]\n",
      "\n",
      "-2.0000000000000004\n",
      "\n",
      "[[1 2 3]\n",
      " [3 4 3]\n",
      " [1 2 3]]\n",
      "\n",
      "0.0\n",
      "\n",
      "[[ 1  2  3]\n",
      " [ 4 45 26]\n",
      " [17 28 19]]\n",
      "\n",
      "-1099.9999999999995\n"
     ]
    }
   ],
   "source": [
    "var5=np.matrix([[1,2],[3,4]])\n",
    "print(var5)\n",
    "print()\n",
    "print(np.linalg.det(var5))\n",
    "\n",
    "print()\n",
    "var5=np.matrix([[1,2,3],[3,4,3],[1,2,3]])\n",
    "print(var5)\n",
    "print()\n",
    "print(np.linalg.det(var5))\n",
    "\n",
    "print()\n",
    "var5=np.matrix([[1,2,3],[4,45,26],[17,28,19]])\n",
    "print(var5)\n",
    "print()\n",
    "print(np.linalg.det(var5))"
   ]
  }
 ],
 "metadata": {
  "kernelspec": {
   "display_name": "Python 3 (ipykernel)",
   "language": "python",
   "name": "python3"
  },
  "language_info": {
   "codemirror_mode": {
    "name": "ipython",
    "version": 3
   },
   "file_extension": ".py",
   "mimetype": "text/x-python",
   "name": "python",
   "nbconvert_exporter": "python",
   "pygments_lexer": "ipython3",
   "version": "3.10.13"
  }
 },
 "nbformat": 4,
 "nbformat_minor": 5
}
