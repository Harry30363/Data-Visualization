{
 "cells": [
  {
   "cell_type": "markdown",
   "id": "0734399f-0dbd-4e46-9534-b7246a0a75e8",
   "metadata": {},
   "source": [
    "##Iteration"
   ]
  },
  {
   "cell_type": "code",
   "execution_count": 3,
   "id": "97b69008-c9aa-4e5b-9427-3880d5841855",
   "metadata": {},
   "outputs": [
    {
     "name": "stdout",
     "output_type": "stream",
     "text": [
      "[9 8 7 6 5 4]\n",
      "\n",
      "9\n",
      "8\n",
      "7\n",
      "6\n",
      "5\n",
      "4\n"
     ]
    }
   ],
   "source": [
    "import numpy as np\n",
    "var=np.array([9,8,7,6,5,4])\n",
    "print(var)\n",
    "print()\n",
    "\n",
    "for i in var:\n",
    "    print(i)"
   ]
  },
  {
   "cell_type": "code",
   "execution_count": 5,
   "id": "5eb67ca0-521f-448b-834c-944b9744ec56",
   "metadata": {},
   "outputs": [
    {
     "name": "stdout",
     "output_type": "stream",
     "text": [
      "[[1 2 3 4]\n",
      " [1 2 3 4]]\n",
      "\n",
      "[1 2 3 4]\n",
      "[1 2 3 4]\n",
      "\n",
      "1\n",
      "2\n",
      "3\n",
      "4\n",
      "1\n",
      "2\n",
      "3\n",
      "4\n"
     ]
    }
   ],
   "source": [
    "var1=np.array([[1,2,3,4],[1,2,3,4]])\n",
    "print(var1)\n",
    "print()\n",
    "\n",
    "for j in var1:\n",
    "    print(j)\n",
    "print()\n",
    "for i in var1:\n",
    "    for j in i:\n",
    "        print(j)"
   ]
  },
  {
   "cell_type": "code",
   "execution_count": 8,
   "id": "6dbbf8f7-f025-4cd7-b385-d701d22645b5",
   "metadata": {},
   "outputs": [
    {
     "name": "stdout",
     "output_type": "stream",
     "text": [
      "[[[1 2 3 4]\n",
      "  [5 6 7 8]]]\n",
      "Dimension:  3\n",
      "\n",
      "1\n",
      "2\n",
      "3\n",
      "4\n",
      "5\n",
      "6\n",
      "7\n",
      "8\n"
     ]
    }
   ],
   "source": [
    "var3=np.array([[[1,2,3,4],[5,6,7,8]]])\n",
    "print(var1)\n",
    "print(\"Dimension: \",var1.ndim)\n",
    "print()\n",
    "for i in var3:\n",
    "    for j in i:\n",
    "        for k in j:\n",
    "            print(k)"
   ]
  },
  {
   "cell_type": "markdown",
   "id": "238f9f68-f393-47f8-9976-284fefe1c761",
   "metadata": {},
   "source": [
    "## nditer function "
   ]
  },
  {
   "cell_type": "code",
   "execution_count": 10,
   "id": "6662f3f1-fbda-40b8-a0c2-74c1d3a666bd",
   "metadata": {},
   "outputs": [
    {
     "name": "stdout",
     "output_type": "stream",
     "text": [
      "[[[1 2 3 4]\n",
      "  [5 6 7 8]]]\n",
      "Dimension:  3\n",
      "\n",
      "1\n",
      "2\n",
      "3\n",
      "4\n",
      "5\n",
      "6\n",
      "7\n",
      "8\n"
     ]
    }
   ],
   "source": [
    "var4=np.array([[[1,2,3,4],[5,6,7,8]]])\n",
    "print(var4)\n",
    "print(\"Dimension: \",var4.ndim)\n",
    "print()\n",
    "\n",
    "for i in np.nditer(var4):\n",
    "    print(i)"
   ]
  },
  {
   "cell_type": "markdown",
   "id": "fd7d44b8-6171-4adc-8354-28b9d8988453",
   "metadata": {},
   "source": [
    "## If i want to save the iterated data and wants to change the type of data than that can be done -, flags=['buffered'],op_dtypes=[\"S\"] S is for strings. "
   ]
  },
  {
   "cell_type": "code",
   "execution_count": 14,
   "id": "32b39beb-2565-4bcd-aeac-8b8a5aa9c1d1",
   "metadata": {},
   "outputs": [
    {
     "name": "stdout",
     "output_type": "stream",
     "text": [
      "[[[1 2 3 4]\n",
      "  [5 6 7 8]]]\n",
      "Dimension:  3\n",
      "\n",
      "b'1'\n",
      "b'2'\n",
      "b'3'\n",
      "b'4'\n",
      "b'5'\n",
      "b'6'\n",
      "b'7'\n",
      "b'8'\n"
     ]
    }
   ],
   "source": [
    "var4=np.array([[[1,2,3,4],[5,6,7,8]]])\n",
    "print(var4)\n",
    "print(\"Dimension: \",var4.ndim)\n",
    "print()\n",
    "\n",
    "for i in np.nditer(var4,flags=['buffered'],op_dtypes=[\"S\"]):\n",
    "    print(i)   "
   ]
  },
  {
   "cell_type": "markdown",
   "id": "f2baf3ad-26c3-4c54-b934-d9a5322442b4",
   "metadata": {},
   "source": [
    "## To get data with the index value \n",
    "## using ndenumerate()"
   ]
  },
  {
   "cell_type": "code",
   "execution_count": 15,
   "id": "54e32d3d-ddd3-4956-a03f-2fad31294055",
   "metadata": {},
   "outputs": [
    {
     "name": "stdout",
     "output_type": "stream",
     "text": [
      "[[[1 2 3 4]\n",
      "  [5 6 7 8]]]\n",
      "Dimension:  3\n",
      "\n",
      "(0, 0, 0) 1\n",
      "(0, 0, 1) 2\n",
      "(0, 0, 2) 3\n",
      "(0, 0, 3) 4\n",
      "(0, 1, 0) 5\n",
      "(0, 1, 1) 6\n",
      "(0, 1, 2) 7\n",
      "(0, 1, 3) 8\n"
     ]
    }
   ],
   "source": [
    "var4=np.array([[[1,2,3,4],[5,6,7,8]]])\n",
    "print(var4)\n",
    "print(\"Dimension: \",var4.ndim)\n",
    "print()\n",
    "\n",
    "for i,d in np.ndenumerate(var4):\n",
    "    print(i,d)   "
   ]
  }
 ],
 "metadata": {
  "kernelspec": {
   "display_name": "Python 3 (ipykernel)",
   "language": "python",
   "name": "python3"
  },
  "language_info": {
   "codemirror_mode": {
    "name": "ipython",
    "version": 3
   },
   "file_extension": ".py",
   "mimetype": "text/x-python",
   "name": "python",
   "nbconvert_exporter": "python",
   "pygments_lexer": "ipython3",
   "version": "3.10.13"
  }
 },
 "nbformat": 4,
 "nbformat_minor": 5
}
