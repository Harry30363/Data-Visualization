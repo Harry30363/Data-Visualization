{
 "cells": [
  {
   "cell_type": "markdown",
   "id": "f958c231-c25f-4e46-b975-a1b229354b52",
   "metadata": {},
   "source": [
    "##  INDEXING"
   ]
  },
  {
   "cell_type": "code",
   "execution_count": 2,
   "id": "1a08bdb7-e8b5-410f-81de-4833c748a50b",
   "metadata": {},
   "outputs": [],
   "source": [
    "import numpy as np"
   ]
  },
  {
   "cell_type": "code",
   "execution_count": 3,
   "id": "72bf7269-b3f2-4296-a843-0083d1783990",
   "metadata": {},
   "outputs": [
    {
     "name": "stdout",
     "output_type": "stream",
     "text": [
      "8\n",
      "8\n"
     ]
    }
   ],
   "source": [
    "var=np.array([9,8,7,6])\n",
    "#             0,1,2,3\n",
    "#           -4,-3,-2,-1\n",
    "print(var[1])\n",
    "print(var[-3])\n"
   ]
  },
  {
   "cell_type": "code",
   "execution_count": 5,
   "id": "62d3a9ed-c5fd-4c7c-a481-583e3832f45c",
   "metadata": {},
   "outputs": [
    {
     "name": "stdout",
     "output_type": "stream",
     "text": [
      "[[9 8 7]\n",
      " [4 5 6]]\n",
      "2\n",
      "\n",
      "8\n"
     ]
    }
   ],
   "source": [
    "var1=np.array([[9,8,7],[4,5,6]])\n",
    "print(var1)\n",
    "print(var1.ndim)\n",
    "print()\n",
    "\n",
    "print(var1[0,1])"
   ]
  },
  {
   "cell_type": "code",
   "execution_count": 9,
   "id": "3ae8ff40-df08-447e-9198-04e41ba7be18",
   "metadata": {},
   "outputs": [
    {
     "name": "stdout",
     "output_type": "stream",
     "text": [
      "[[[1 2]\n",
      "  [9 6]]]\n",
      "3\n",
      "\n",
      "6\n"
     ]
    }
   ],
   "source": [
    "var2=np.array([[[1,2],[9,6]]])\n",
    "print(var2)\n",
    "print(var2.ndim)\n",
    "print()\n",
    "print(var2[0,1,1])"
   ]
  },
  {
   "cell_type": "markdown",
   "id": "587551df-3c66-4552-b660-e44f3c71310a",
   "metadata": {},
   "source": [
    "## Slicing"
   ]
  },
  {
   "cell_type": "code",
   "execution_count": null,
   "id": "3113d37e-7f22-49f8-b8ad-6c0ab37c2f40",
   "metadata": {},
   "outputs": [],
   "source": []
  },
  {
   "cell_type": "code",
   "execution_count": null,
   "id": "4e19b2fb-28af-4c8f-99cd-55d66b61d354",
   "metadata": {},
   "outputs": [],
   "source": []
  }
 ],
 "metadata": {
  "kernelspec": {
   "display_name": "Python 3 (ipykernel)",
   "language": "python",
   "name": "python3"
  },
  "language_info": {
   "codemirror_mode": {
    "name": "ipython",
    "version": 3
   },
   "file_extension": ".py",
   "mimetype": "text/x-python",
   "name": "python",
   "nbconvert_exporter": "python",
   "pygments_lexer": "ipython3",
   "version": "3.10.13"
  }
 },
 "nbformat": 4,
 "nbformat_minor": 5
}
