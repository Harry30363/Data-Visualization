{
 "cells": [
  {
   "cell_type": "markdown",
   "id": "7ed84bc2-da7a-4816-92f7-83cb30d28dc6",
   "metadata": {},
   "source": [
    "## Join Array"
   ]
  },
  {
   "cell_type": "code",
   "execution_count": 2,
   "id": "212d7b8a-bd63-45a4-99e2-407f24392e9a",
   "metadata": {},
   "outputs": [],
   "source": [
    "import numpy as np"
   ]
  },
  {
   "cell_type": "markdown",
   "id": "2f44361b-98af-4d66-b2e7-f16394d3969b",
   "metadata": {},
   "source": [
    "## concatenate(())"
   ]
  },
  {
   "cell_type": "code",
   "execution_count": 2,
   "id": "6755f57c-15df-4e47-b1fe-b1c9dfadc416",
   "metadata": {},
   "outputs": [
    {
     "name": "stdout",
     "output_type": "stream",
     "text": [
      "[1 2 3 4 5 6 7 8]\n"
     ]
    }
   ],
   "source": [
    "var=np.array([1,2,3,4])\n",
    "var1=np.array([5,6,7,8])\n",
    "\n",
    "ar= np.concatenate((var,var1))\n",
    "print(ar)"
   ]
  },
  {
   "cell_type": "code",
   "execution_count": 5,
   "id": "37d399e6-4c24-4075-9279-26ce083b0933",
   "metadata": {},
   "outputs": [
    {
     "name": "stdout",
     "output_type": "stream",
     "text": [
      "[[1 2]\n",
      " [3 4]]\n",
      "\n",
      "[[5 6]\n",
      " [7 8]]\n",
      "\n",
      "[[1 2 5 6]\n",
      " [3 4 7 8]]\n"
     ]
    }
   ],
   "source": [
    "vr=np.array([[1,2],[3,4]])\n",
    "vr1=np.array([[5,6],[7,8]])\n",
    "\n",
    "ar_new= np.concatenate((vr,vr1),axis=1)\n",
    "print(vr)\n",
    "print()\n",
    "print(vr1)\n",
    "print()\n",
    "print(ar_new)"
   ]
  },
  {
   "cell_type": "markdown",
   "id": "5edee1ac-8b36-4493-ba7c-cdef7f606dbb",
   "metadata": {},
   "source": [
    "## stack(())"
   ]
  },
  {
   "cell_type": "code",
   "execution_count": 3,
   "id": "bc8b677c-082a-4f73-9a3b-57f28f60f310",
   "metadata": {},
   "outputs": [
    {
     "name": "stdout",
     "output_type": "stream",
     "text": [
      "[1 2 3 4]\n",
      "1\n",
      "\n",
      "[5 6 7 8]\n",
      "1\n",
      "\n",
      "[[1 5]\n",
      " [2 6]\n",
      " [3 7]\n",
      " [4 8]]\n",
      "2\n"
     ]
    }
   ],
   "source": [
    "var_1=np.array([1,2,3,4])\n",
    "var_2=np.array([5,6,7,8])\n",
    "print(var_1)\n",
    "print(var_1.ndim)\n",
    "print()\n",
    "print(var_2)\n",
    "print(var_2.ndim)\n",
    "print()\n",
    "ar_new= np.stack((var_1,var_2),axis=1)\n",
    "print(ar_new)\n",
    "print(ar_new.ndim)"
   ]
  },
  {
   "cell_type": "code",
   "execution_count": 5,
   "id": "c0752851-9f8a-4215-b041-117a0dc5603f",
   "metadata": {},
   "outputs": [
    {
     "name": "stdout",
     "output_type": "stream",
     "text": [
      "[1 2 3 4]\n",
      "1\n",
      "\n",
      "[5 6 7 8]\n",
      "1\n",
      "\n",
      "[[1 5]\n",
      " [2 6]\n",
      " [3 7]\n",
      " [4 8]]\n",
      "2\n",
      "\n",
      "[[1 2 3 4]\n",
      " [5 6 7 8]]\n",
      "2\n",
      "\n",
      "[1 2 3 4 5 6 7 8]\n",
      "1\n",
      "\n",
      "[[1 2 3 4]\n",
      " [5 6 7 8]]\n",
      "2\n",
      "\n",
      "[[[1 5]\n",
      "  [2 6]\n",
      "  [3 7]\n",
      "  [4 8]]]\n",
      "3\n"
     ]
    }
   ],
   "source": [
    "var_1=np.array([1,2,3,4])\n",
    "var_2=np.array([5,6,7,8])\n",
    "print(var_1)\n",
    "print(var_1.ndim)\n",
    "print()\n",
    "\n",
    "print(var_2)\n",
    "print(var_2.ndim)\n",
    "print()\n",
    "\n",
    "ar_new= np.stack((var_1,var_2),axis=1)\n",
    "ar_new0= np.stack((var_1,var_2),axis=0)\n",
    "ar_new1=np.hstack((var_1,var_2)) # row\n",
    "ar_new2=np.vstack((var_1,var_2)) # colums\n",
    "ar_new3=np.dstack((var_1,var_2)) # height\n",
    "\n",
    "print(ar_new)\n",
    "print(ar_new.ndim)\n",
    "print()\n",
    "print(ar_new0)\n",
    "print(ar_new0.ndim)\n",
    "print()\n",
    "print(ar_new1)\n",
    "print(ar_new1.ndim)\n",
    "print()\n",
    "print(ar_new2)\n",
    "print(ar_new2.ndim)\n",
    "print()\n",
    "print(ar_new3)\n",
    "print(ar_new3.ndim)"
   ]
  },
  {
   "cell_type": "code",
   "execution_count": null,
   "id": "2939a9f7-c7c2-49f0-961c-dba38b6050dc",
   "metadata": {},
   "outputs": [],
   "source": []
  },
  {
   "cell_type": "markdown",
   "id": "710e8da0-d3e2-48bc-9681-f293afa3be6d",
   "metadata": {},
   "source": [
    "## SPLIT ARRAY"
   ]
  },
  {
   "cell_type": "code",
   "execution_count": 6,
   "id": "009d9a19-a91d-47ab-b2a0-807ba7e05370",
   "metadata": {},
   "outputs": [],
   "source": [
    "import numpy as np"
   ]
  },
  {
   "cell_type": "code",
   "execution_count": 21,
   "id": "89e4fee7-362c-4a56-b973-4dc78137e71f",
   "metadata": {},
   "outputs": [
    {
     "name": "stdout",
     "output_type": "stream",
     "text": [
      "[1 2 3 4 5 6]\n",
      "<class 'numpy.ndarray'>\n",
      "\n",
      "[array([1, 2]), array([3, 4]), array([5, 6])]\n",
      "\n",
      "[array([1, 2]), array([3, 4]), array([5]), array([6])]\n",
      "\n",
      "<class 'list'>\n",
      "[1 2]\n"
     ]
    }
   ],
   "source": [
    "u= np.array([1,2,3,4,5,6])\n",
    "print(u)\n",
    "print(type(u))\n",
    "ar=np.array_split(u,3)\n",
    "print()\n",
    "print(ar)\n",
    "ar=np.array_split(u,4)\n",
    "\n",
    "print()\n",
    "print(ar)\n",
    "print()\n",
    "print(type(ar))\n",
    "print(ar[0])"
   ]
  },
  {
   "cell_type": "code",
   "execution_count": 22,
   "id": "60c3d62e-5852-4b98-9ebb-5cc03ab14324",
   "metadata": {},
   "outputs": [
    {
     "name": "stdout",
     "output_type": "stream",
     "text": [
      "[[1 2]\n",
      " [3 4]\n",
      " [5 6]]\n",
      "2\n",
      "<class 'numpy.ndarray'>\n",
      "\n",
      "[array([[1, 2]]), array([[3, 4]]), array([[5, 6]])]\n"
     ]
    }
   ],
   "source": [
    "k= np.array([[1,2],[3,4],[5,6]])\n",
    "print(k)\n",
    "print(k.ndim)\n",
    "print(type(k))\n",
    "a_r=np.array_split(k,3)\n",
    "print()\n",
    "print(a_r)"
   ]
  }
 ],
 "metadata": {
  "kernelspec": {
   "display_name": "Python 3 (ipykernel)",
   "language": "python",
   "name": "python3"
  },
  "language_info": {
   "codemirror_mode": {
    "name": "ipython",
    "version": 3
   },
   "file_extension": ".py",
   "mimetype": "text/x-python",
   "name": "python",
   "nbconvert_exporter": "python",
   "pygments_lexer": "ipython3",
   "version": "3.10.13"
  }
 },
 "nbformat": 4,
 "nbformat_minor": 5
}
