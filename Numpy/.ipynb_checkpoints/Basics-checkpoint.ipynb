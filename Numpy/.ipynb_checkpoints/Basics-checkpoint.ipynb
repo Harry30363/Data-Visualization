{
 "cells": [
  {
   "cell_type": "code",
   "execution_count": 1,
   "id": "0fc290c0-bd4b-493a-a754-5a00c8f95eef",
   "metadata": {},
   "outputs": [],
   "source": [
    "import numpy as np"
   ]
  },
  {
   "cell_type": "code",
   "execution_count": 2,
   "id": "f0de3a8f-e82d-4803-910b-524a319a6e84",
   "metadata": {},
   "outputs": [
    {
     "name": "stdout",
     "output_type": "stream",
     "text": [
      "[1 2 3 4]\n",
      "<class 'numpy.ndarray'>\n",
      "1\n"
     ]
    }
   ],
   "source": [
    "x=[1,2,3,4]\n",
    "y=np.array(x)\n",
    "print(y)\n",
    "print(type(y))\n",
    "print(y.ndim)"
   ]
  },
  {
   "cell_type": "code",
   "execution_count": 4,
   "id": "cc3dafc0-64f2-4e55-8442-966c26f24779",
   "metadata": {},
   "outputs": [
    {
     "name": "stdout",
     "output_type": "stream",
     "text": [
      "[5 6 7 8]\n",
      "<class 'numpy.ndarray'>\n",
      "1\n"
     ]
    }
   ],
   "source": [
    "y=np.array([5,6,7,8])\n",
    "print(y)\n",
    "print(type(y))\n",
    "print(y.ndim)"
   ]
  },
  {
   "cell_type": "code",
   "execution_count": 7,
   "id": "0792a8e9-a1c2-4ff9-911e-85fdfe85ba7f",
   "metadata": {},
   "outputs": [
    {
     "name": "stdin",
     "output_type": "stream",
     "text": [
      "Enter the value :  1\n",
      "Enter the value :  2\n",
      "Enter the value :  3\n",
      "Enter the value :  4\n",
      "Enter the value :  5\n"
     ]
    },
    {
     "name": "stdout",
     "output_type": "stream",
     "text": [
      "[1, 2, 3, 4, 5]\n",
      "[1 2 3 4 5]\n",
      "<class 'list'>\n"
     ]
    }
   ],
   "source": [
    "l=[]\n",
    "\n",
    "for i in range(0,5):\n",
    "    k=int(input(\"Enter the value : \"))\n",
    "    l.append(k)\n",
    "print(l)\n",
    "print(np.array(l))\n",
    "print(type(l))"
   ]
  },
  {
   "cell_type": "code",
   "execution_count": 2,
   "id": "46294da5-a8c2-4548-855c-fc79ff0b65f5",
   "metadata": {},
   "outputs": [
    {
     "name": "stdout",
     "output_type": "stream",
     "text": [
      "[[[1 2 3]\n",
      "  [4 5 6]\n",
      "  [7 8 9]]]\n",
      "3\n"
     ]
    }
   ],
   "source": [
    "import numpy as np\n",
    "a2=np.array([[[1,2,3],[4,5,6],[7,8,9]]])\n",
    "print(np.array(a2))\n",
    "print(a2.ndim)"
   ]
  },
  {
   "cell_type": "code",
   "execution_count": 3,
   "id": "79a2680f-4814-435d-b21b-10935151034c",
   "metadata": {},
   "outputs": [
    {
     "name": "stdout",
     "output_type": "stream",
     "text": [
      "[[[[[[[[[[1 2 3]]]]]]]]]]\n",
      "10\n"
     ]
    }
   ],
   "source": [
    "a3=np.array([1,2,3],ndmin=10)\n",
    "print(np.array(a3))\n",
    "print(a3.ndim)"
   ]
  },
  {
   "cell_type": "code",
   "execution_count": 5,
   "id": "8f5790b1-c0a4-4208-9655-c861b4f7d64f",
   "metadata": {},
   "outputs": [
    {
     "name": "stdout",
     "output_type": "stream",
     "text": [
      "[0. 0. 0. 0. 0.]\n",
      "[[0. 0. 0.]\n",
      " [0. 0. 0.]\n",
      " [0. 0. 0.]\n",
      " [0. 0. 0.]\n",
      " [0. 0. 0.]]\n",
      "[1. 1. 1. 1. 1.]\n",
      "[[1. 1. 1. 1. 1.]\n",
      " [1. 1. 1. 1. 1.]\n",
      " [1. 1. 1. 1. 1.]]\n"
     ]
    }
   ],
   "source": [
    "import numpy as np\n",
    "a1=np.zeros(5)\n",
    "a2=np.zeros((5,3))\n",
    "print(a1)\n",
    "print(a2)\n",
    "a3=np.ones(5)\n",
    "a4=np.ones((3,5))\n",
    "print(a3)\n",
    "print(a4)"
   ]
  },
  {
   "cell_type": "code",
   "execution_count": 6,
   "id": "f791b2a1-c742-43bf-a522-8b6a78a5bf2b",
   "metadata": {},
   "outputs": [
    {
     "name": "stdout",
     "output_type": "stream",
     "text": [
      "[4.65738430e-310 0.00000000e+000 4.65738401e-310 4.65738418e-310]\n"
     ]
    }
   ],
   "source": [
    "ar=np.empty(4)\n",
    "print(ar)"
   ]
  },
  {
   "cell_type": "code",
   "execution_count": 7,
   "id": "10a98b39-bd2a-403e-a629-c06ba3387e75",
   "metadata": {},
   "outputs": [
    {
     "name": "stdout",
     "output_type": "stream",
     "text": [
      "[0 1 2 3]\n"
     ]
    }
   ],
   "source": [
    "arn=np.arange(4)\n",
    "print(arn)"
   ]
  },
  {
   "cell_type": "code",
   "execution_count": 8,
   "id": "a508311b-5985-442e-965a-553483a8e31e",
   "metadata": {},
   "outputs": [
    {
     "name": "stdout",
     "output_type": "stream",
     "text": [
      "[[1. 0. 0.]\n",
      " [0. 1. 0.]\n",
      " [0. 0. 1.]]\n"
     ]
    }
   ],
   "source": [
    "arar=np.eye(3)\n",
    "print(arar)"
   ]
  },
  {
   "cell_type": "markdown",
   "id": "53c01693-cbb5-4e67-8c10-c9e0584f4d0d",
   "metadata": {},
   "source": [
    "linsspace"
   ]
  },
  {
   "cell_type": "code",
   "execution_count": 9,
   "id": "bd1c9ad7-e459-439f-86a7-fe0898ad6d5d",
   "metadata": {},
   "outputs": [
    {
     "name": "stdout",
     "output_type": "stream",
     "text": [
      "[ 0.   2.5  5.   7.5 10. ]\n"
     ]
    }
   ],
   "source": [
    "ar_lin=np.linspace(0,10,num=5)\n",
    "print(ar_lin)"
   ]
  },
  {
   "cell_type": "markdown",
   "id": "c7ae9339-e35c-497e-8b22-c49f80c6e809",
   "metadata": {},
   "source": [
    "****  Random   ***"
   ]
  },
  {
   "cell_type": "markdown",
   "id": "35659d64-4cdf-4406-bfdc-d2f2805bdd28",
   "metadata": {},
   "source": [
    "Rand(): the function is used to generate a random value between 0 to 1 ."
   ]
  },
  {
   "cell_type": "code",
   "execution_count": 1,
   "id": "deca0bbd-daa2-43d8-a562-bbe3bf1b3e44",
   "metadata": {},
   "outputs": [
    {
     "name": "stdout",
     "output_type": "stream",
     "text": [
      "[0.90978483 0.43256317 0.22343571 0.30184525]\n"
     ]
    }
   ],
   "source": [
    "import numpy as np\n",
    "var= np.random.rand(4)\n",
    "print(var)"
   ]
  },
  {
   "cell_type": "code",
   "execution_count": 3,
   "id": "1f4f2ca0-4afe-4b39-84ae-1a303c7b9c94",
   "metadata": {},
   "outputs": [
    {
     "name": "stdout",
     "output_type": "stream",
     "text": [
      "[[0.97421784 0.76141822 0.36709014 0.14020997 0.75337235]\n",
      " [0.31343397 0.91529848 0.48470196 0.09864881 0.2343959 ]]\n",
      "2\n"
     ]
    }
   ],
   "source": [
    "var1= np.random.rand(2,5)\n",
    "print(var1)\n",
    "print(var1.ndim)"
   ]
  },
  {
   "cell_type": "markdown",
   "id": "a36b5399-4eeb-439d-8458-3f42ef40e331",
   "metadata": {},
   "source": [
    "Randn(): the function is used to generate a random value close to zero . This may return positive or negative numbers as well."
   ]
  },
  {
   "cell_type": "code",
   "execution_count": 4,
   "id": "5a2a824a-324c-4882-80ab-fd564999e19e",
   "metadata": {},
   "outputs": [
    {
     "name": "stdout",
     "output_type": "stream",
     "text": [
      "[ 0.23884838 -0.74373934 -1.45649587 -0.66191147 -0.88914762]\n"
     ]
    }
   ],
   "source": [
    "var2= np.random.randn(5)\n",
    "print(var2)"
   ]
  },
  {
   "cell_type": "markdown",
   "id": "fb625b12-e663-42f0-a0a4-117e5efa5416",
   "metadata": {},
   "source": [
    "ranf(): the function for doing random sampling in numpy . It returns an array of specified shape and fills it with random floats in the half open interval[0.0,1.0)."
   ]
  },
  {
   "cell_type": "code",
   "execution_count": 5,
   "id": "08eae1f2-527a-4a09-a01e-3d3b47b65e19",
   "metadata": {},
   "outputs": [
    {
     "name": "stdout",
     "output_type": "stream",
     "text": [
      "[0.1397166  0.2608717  0.17247122 0.83883125]\n"
     ]
    }
   ],
   "source": [
    "var3=np.random.ranf(4)\n",
    "print(var3)"
   ]
  },
  {
   "cell_type": "markdown",
   "id": "d983075d-3567-41ec-bd97-8720189a760a",
   "metadata": {},
   "source": [
    "randint(): the function is used to generate a random number between a given range"
   ]
  },
  {
   "cell_type": "markdown",
   "id": "7a9c5ebb-f185-481a-97f5-e2ec2d084a80",
   "metadata": {},
   "source": [
    "var4= np.random.randint(min,max,total_values)\n",
    "var4=np.rando"
   ]
  },
  {
   "cell_type": "code",
   "execution_count": 2,
   "id": "b0cf9704-88fa-4771-99b8-0a8ec23fdb84",
   "metadata": {},
   "outputs": [
    {
     "name": "stdout",
     "output_type": "stream",
     "text": [
      "[ 8 13 16 18 19]\n"
     ]
    }
   ],
   "source": [
    "import numpy as np\n",
    "var4= np.random.randint(5,20,5)\n",
    "print(var4)"
   ]
  },
  {
   "cell_type": "code",
   "execution_count": null,
   "id": "c6aab5e6-8723-49e2-b4a8-c890218212e6",
   "metadata": {},
   "outputs": [],
   "source": []
  }
 ],
 "metadata": {
  "kernelspec": {
   "display_name": "Python 3 (ipykernel)",
   "language": "python",
   "name": "python3"
  },
  "language_info": {
   "codemirror_mode": {
    "name": "ipython",
    "version": 3
   },
   "file_extension": ".py",
   "mimetype": "text/x-python",
   "name": "python",
   "nbconvert_exporter": "python",
   "pygments_lexer": "ipython3",
   "version": "3.10.13"
  }
 },
 "nbformat": 4,
 "nbformat_minor": 5
}
