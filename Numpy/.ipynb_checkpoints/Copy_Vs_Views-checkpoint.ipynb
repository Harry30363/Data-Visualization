{
 "cells": [
  {
   "cell_type": "markdown",
   "id": "089ae7f2-f558-4826-8122-545c1795e484",
   "metadata": {},
   "source": [
    "## COPY VS VIEW"
   ]
  },
  {
   "cell_type": "code",
   "execution_count": 1,
   "id": "769f4b8f-9684-4ad6-94dc-0d3e54b23dd7",
   "metadata": {},
   "outputs": [],
   "source": [
    "import numpy as np"
   ]
  },
  {
   "cell_type": "code",
   "execution_count": 2,
   "id": "f1cf6e8d-2b99-4786-a73c-cb314bf8d81d",
   "metadata": {},
   "outputs": [
    {
     "name": "stdout",
     "output_type": "stream",
     "text": [
      "var :  [1 2 3 4]\n",
      "copy :  [1 2 3 4]\n"
     ]
    }
   ],
   "source": [
    "var=np.array([1,2,3,4])\n",
    "co=var.copy()\n",
    "\n",
    "print(\"var : \",var)\n",
    "print(\"copy : \",co)"
   ]
  },
  {
   "cell_type": "code",
   "execution_count": 3,
   "id": "03296075-414b-4395-a052-35504846cd58",
   "metadata": {},
   "outputs": [
    {
     "name": "stdout",
     "output_type": "stream",
     "text": [
      "x :  [9 8 7 6 5]\n",
      "view :  [9 8 7 6 5]\n"
     ]
    }
   ],
   "source": [
    "x=np.array([9,8,7,6,5])\n",
    "\n",
    "vi=x.view()\n",
    "print(\"x : \",x)\n",
    "print(\"view : \",vi)"
   ]
  },
  {
   "cell_type": "code",
   "execution_count": null,
   "id": "5665c6a5-efef-4f21-8737-4d092b16814e",
   "metadata": {},
   "outputs": [],
   "source": []
  },
  {
   "cell_type": "markdown",
   "id": "81776ffb-a9af-4595-bf75-de9e1a69e6d8",
   "metadata": {},
   "source": [
    "copy(): 1)The copy owns the data.\n",
    "2) The copy of an array is a new array.\n",
    "3) The changes made in the copy data does    not reflect in the original array."
   ]
  },
  {
   "cell_type": "markdown",
   "id": "e4fd9d02-fd42-4144-bcfe-bbbecf531531",
   "metadata": {},
   "source": [
    "view(): 1) The view does not own the data.\n",
    "2) A view of the original array.\n",
    "3) any changes made to the view will affect the original array , and any changes made to original array will affect the view."
   ]
  },
  {
   "cell_type": "code",
   "execution_count": null,
   "id": "d2c3f1b5-42c0-404d-967d-71a8456e4154",
   "metadata": {},
   "outputs": [],
   "source": []
  },
  {
   "cell_type": "code",
   "execution_count": 4,
   "id": "31b0862d-fda0-404c-90ac-89b2f7cfb94b",
   "metadata": {},
   "outputs": [
    {
     "name": "stdout",
     "output_type": "stream",
     "text": [
      "var :  [ 1 40  3  4]\n",
      "copy :  [1 2 3 4]\n"
     ]
    }
   ],
   "source": [
    "var=np.array([1,2,3,4])\n",
    "co=var.copy()\n",
    "var[1]=40\n",
    "\n",
    "print(\"var : \",var)\n",
    "print(\"copy : \",co)"
   ]
  },
  {
   "cell_type": "code",
   "execution_count": 5,
   "id": "26e44c43-7a09-40e6-bc10-506281b879ee",
   "metadata": {},
   "outputs": [
    {
     "name": "stdout",
     "output_type": "stream",
     "text": [
      "x :  [ 9 40  7  6  5]\n",
      "view :  [ 9 40  7  6  5]\n"
     ]
    }
   ],
   "source": [
    "x=np.array([9,8,7,6,5])\n",
    "\n",
    "vi=x.view()\n",
    "\n",
    "x[1]=40\n",
    "print(\"x : \",x)\n",
    "print(\"view : \",vi)"
   ]
  }
 ],
 "metadata": {
  "kernelspec": {
   "display_name": "Python 3 (ipykernel)",
   "language": "python",
   "name": "python3"
  },
  "language_info": {
   "codemirror_mode": {
    "name": "ipython",
    "version": 3
   },
   "file_extension": ".py",
   "mimetype": "text/x-python",
   "name": "python",
   "nbconvert_exporter": "python",
   "pygments_lexer": "ipython3",
   "version": "3.10.13"
  }
 },
 "nbformat": 4,
 "nbformat_minor": 5
}
