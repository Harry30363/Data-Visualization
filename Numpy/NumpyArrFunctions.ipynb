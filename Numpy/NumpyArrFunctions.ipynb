{
 "cells": [
  {
   "cell_type": "markdown",
   "id": "bbf61ba2-bdda-4abc-99ca-9d6d24435ad2",
   "metadata": {},
   "source": [
    "## FUNCTIONS -,"
   ]
  },
  {
   "cell_type": "markdown",
   "id": "9b805096-3a2c-4644-a2cc-0fc2554b99e1",
   "metadata": {},
   "source": [
    "## Search"
   ]
  },
  {
   "cell_type": "code",
   "execution_count": 1,
   "id": "9d57c1a2-4c4d-4357-bbb7-1e31cc72abd7",
   "metadata": {},
   "outputs": [],
   "source": [
    "import numpy as np"
   ]
  },
  {
   "cell_type": "code",
   "execution_count": 3,
   "id": "cab0e5a4-3da0-4e52-b495-b2cda7162cfe",
   "metadata": {},
   "outputs": [
    {
     "name": "stdout",
     "output_type": "stream",
     "text": [
      "(array([1, 4, 6]),)\n",
      "(array([1, 3, 4, 6, 8]),)\n"
     ]
    }
   ],
   "source": [
    "var=np.array([1,2,3,4,2,5,2,5,6,7])\n",
    "\n",
    "x=np.where(var==2)\n",
    "print(x)\n",
    "x=np.where((var%2)==0)\n",
    "print(x)"
   ]
  },
  {
   "cell_type": "code",
   "execution_count": 37,
   "id": "dea9d9ea-bc6a-49a8-b9fc-d83659c84342",
   "metadata": {},
   "outputs": [
    {
     "name": "stdout",
     "output_type": "stream",
     "text": [
      "4\n",
      "4\n"
     ]
    }
   ],
   "source": [
    "varer=np.array([1,2,3,4,6,7])\n",
    "\n",
    "rx1=np.searchsorted(varer,5)\n",
    "print(rx1)\n",
    "rx2=np.searchsorted(varer, 5, side='right')\n",
    "print(rx2)"
   ]
  },
  {
   "cell_type": "markdown",
   "id": "f09fd464-7363-4681-bcfe-7f483396bcfc",
   "metadata": {},
   "source": [
    "## Sort"
   ]
  },
  {
   "cell_type": "code",
   "execution_count": 39,
   "id": "44fdfcd9-e67b-4730-b11d-e3a66f6200b8",
   "metadata": {},
   "outputs": [
    {
     "name": "stdout",
     "output_type": "stream",
     "text": [
      "[ 0  1  2  2  5  7  9 11 14 30]\n"
     ]
    }
   ],
   "source": [
    "va_1=np.array([11,2,30,14,2,5,1,0,9,7])\n",
    "print(np.sort(va_1))"
   ]
  },
  {
   "cell_type": "code",
   "execution_count": 40,
   "id": "fd707480-b7e2-4fd7-af55-e7d9b4a64d1e",
   "metadata": {},
   "outputs": [
    {
     "name": "stdout",
     "output_type": "stream",
     "text": [
      "['a' 'b' 'd' 'l' 'm']\n"
     ]
    }
   ],
   "source": [
    "var_2=np.array([\"d\",\"a\",\"m\",\"b\",\"l\"])\n",
    "print(np.sort(var_2))"
   ]
  },
  {
   "cell_type": "code",
   "execution_count": 42,
   "id": "be942cb4-5b0e-4aa7-8030-b15c45d7f5ae",
   "metadata": {},
   "outputs": [
    {
     "name": "stdout",
     "output_type": "stream",
     "text": [
      "[[ 2 11]\n",
      " [14 30]\n",
      " [ 2  5]\n",
      " [ 0  1]\n",
      " [ 7  9]]\n"
     ]
    }
   ],
   "source": [
    "va_3=np.array([[11,2],[30,14],[2,5],[1,0],[9,7]])\n",
    "print(np.sort(va_3))\n"
   ]
  },
  {
   "cell_type": "markdown",
   "id": "509877f1-1935-40d5-9cb3-9581e46b4519",
   "metadata": {},
   "source": [
    "## Filter"
   ]
  },
  {
   "cell_type": "code",
   "execution_count": 45,
   "id": "f19198f4-5ccb-4171-9e81-74cb6c06cca2",
   "metadata": {},
   "outputs": [
    {
     "name": "stdout",
     "output_type": "stream",
     "text": [
      "['a' 'f']\n",
      "<class 'numpy.ndarray'>\n"
     ]
    }
   ],
   "source": [
    "vvar=np.array([\"a\",\"s\",\"d\",\"f\"])\n",
    "f=[True,False,False,True]\n",
    "new_a=vvar[f]\n",
    "print(new_a)\n",
    "print(type(new_a))"
   ]
  },
  {
   "cell_type": "code",
   "execution_count": null,
   "id": "152f44ad-8b0f-4952-9794-d431474f9fa2",
   "metadata": {},
   "outputs": [],
   "source": []
  },
  {
   "cell_type": "markdown",
   "id": "925976f8-85dd-40e8-8f04-cdc3bde844bf",
   "metadata": {},
   "source": [
    "## Shuffle"
   ]
  },
  {
   "cell_type": "code",
   "execution_count": 49,
   "id": "74140f4f-18c7-4f57-914e-ae2031264798",
   "metadata": {},
   "outputs": [
    {
     "name": "stdout",
     "output_type": "stream",
     "text": [
      "[3 5 4 2 1]\n"
     ]
    }
   ],
   "source": [
    "van=np.array([1,2,3,4,5])\n",
    "np.random.shuffle(van)\n",
    "print(van)"
   ]
  },
  {
   "cell_type": "markdown",
   "id": "d7808cbc-330e-41d5-a720-9c76b71fa545",
   "metadata": {},
   "source": [
    "## Unique"
   ]
  },
  {
   "cell_type": "code",
   "execution_count": 51,
   "id": "0a270bbe-ed23-4b4d-9f06-9c0a2b89529c",
   "metadata": {},
   "outputs": [
    {
     "name": "stdout",
     "output_type": "stream",
     "text": [
      "[1 2 3 4 5 6 7]\n"
     ]
    }
   ],
   "source": [
    "ba=np.array([1,2,3,4,2,5,3,6,2,7])\n",
    "xr=np.unique(ba)\n",
    "print(xr)"
   ]
  },
  {
   "cell_type": "code",
   "execution_count": 52,
   "id": "d3620c84-4c3a-4fc4-b320-fff3dec91582",
   "metadata": {},
   "outputs": [
    {
     "name": "stdout",
     "output_type": "stream",
     "text": [
      "(array([1, 2, 3, 4, 5, 6, 7]), array([0, 1, 2, 3, 5, 7, 9]))\n"
     ]
    }
   ],
   "source": [
    "ba=np.array([1,2,3,4,2,5,3,6,2,7])\n",
    "xr=np.unique(ba,return_index=True)\n",
    "print(xr)"
   ]
  },
  {
   "cell_type": "code",
   "execution_count": 54,
   "id": "147a8f87-e17c-42db-ac74-c14c0a10ed7e",
   "metadata": {},
   "outputs": [
    {
     "name": "stdout",
     "output_type": "stream",
     "text": [
      "(array([1, 2, 3, 4, 5, 6, 7]), array([0, 1, 2, 3, 5, 7, 9]), array([1, 3, 2, 1, 1, 1, 1]))\n"
     ]
    }
   ],
   "source": [
    "ba=np.array([1,2,3,4,2,5,3,6,2,7])\n",
    "xr=np.unique(ba,return_index=True,return_counts=True)\n",
    "print(xr)"
   ]
  },
  {
   "cell_type": "markdown",
   "id": "9d891e63-83bc-4708-ac80-b2f43dc354d7",
   "metadata": {},
   "source": [
    "## Resize"
   ]
  },
  {
   "cell_type": "code",
   "execution_count": 55,
   "id": "b5577368-005d-4da0-8069-eb0c8dc71c57",
   "metadata": {},
   "outputs": [
    {
     "name": "stdout",
     "output_type": "stream",
     "text": [
      "[[1 2 3]\n",
      " [4 5 6]]\n"
     ]
    }
   ],
   "source": [
    "nb=np.array([1,2,3,4,5,6])\n",
    "y=np.resize(nb,(2,3))\n",
    "print(y)"
   ]
  },
  {
   "cell_type": "markdown",
   "id": "e2d22918-6fd3-43d1-9933-91fecdbf4e7e",
   "metadata": {},
   "source": [
    "Order:{'C','F','A','K'}, Optional\n",
    "-> 'C' means to flatten in row-major(C-style) order.\n",
    "-> 'F' means to flatten in column-major(Fortran-style) order.\n",
    "-> 'A' means to flatten in column-major order if 'a' is Fortran *contiguous* in memory ,row-major order otherwise.\n",
    "->'K' means to flatten 'a' in the order the elements occur in memory\n",
    "->The default is'C'."
   ]
  },
  {
   "cell_type": "markdown",
   "id": "52ebfcef-6952-4119-8af3-899640b6cc65",
   "metadata": {},
   "source": [
    "## Flatten and Ravel"
   ]
  },
  {
   "cell_type": "code",
   "execution_count": 61,
   "id": "71363717-f6af-4435-b7dd-e7fb2ed3e44d",
   "metadata": {},
   "outputs": [
    {
     "name": "stdout",
     "output_type": "stream",
     "text": [
      "[[1 2]\n",
      " [3 4]\n",
      " [5 6]]\n",
      "\n",
      "Flatten :  [1 3 5 2 4 6]\n",
      "Ravel :  [1 2 3 4 5 6]\n",
      "Ravel :  [1 3 5 2 4 6]\n",
      "Ravel :  [1 2 3 4 5 6]\n",
      "Ravel :  [1 2 3 4 5 6]\n"
     ]
    }
   ],
   "source": [
    "nb=np.array([1,2,3,4,5,6])\n",
    "y=np.resize(nb,(3,2))\n",
    "print(y)\n",
    "print()\n",
    "\n",
    "print(\"Flatten : \",y.flatten(order=\"F\"))\n",
    "print(\"Ravel : \",np.ravel(y))\n",
    "print(\"Ravel : \",np.ravel(y,order=\"F\"))\n",
    "print(\"Ravel : \",np.ravel(y,order=\"A\"))\n",
    "print(\"Ravel : \",np.ravel(y,order=\"K\"))"
   ]
  }
 ],
 "metadata": {
  "kernelspec": {
   "display_name": "Python 3 (ipykernel)",
   "language": "python",
   "name": "python3"
  },
  "language_info": {
   "codemirror_mode": {
    "name": "ipython",
    "version": 3
   },
   "file_extension": ".py",
   "mimetype": "text/x-python",
   "name": "python",
   "nbconvert_exporter": "python",
   "pygments_lexer": "ipython3",
   "version": "3.10.13"
  }
 },
 "nbformat": 4,
 "nbformat_minor": 5
}
