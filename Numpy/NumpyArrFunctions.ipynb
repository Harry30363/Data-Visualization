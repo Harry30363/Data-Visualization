{
 "cells": [
  {
   "cell_type": "markdown",
   "id": "43785dd2-c46c-4d14-a0dd-192faa0acd79",
   "metadata": {},
   "source": [
    "##Function"
   ]
  },
  {
   "cell_type": "markdown",
   "id": "6689daca-4e95-4fab-bdf9-35134037bb4e",
   "metadata": {},
   "source": [
    "##Search"
   ]
  },
  {
   "cell_type": "code",
   "execution_count": 1,
   "id": "9d57c1a2-4c4d-4357-bbb7-1e31cc72abd7",
   "metadata": {},
   "outputs": [],
   "source": [
    "import numpy as np"
   ]
  },
  {
   "cell_type": "code",
   "execution_count": 3,
   "id": "cab0e5a4-3da0-4e52-b495-b2cda7162cfe",
   "metadata": {},
   "outputs": [
    {
     "name": "stdout",
     "output_type": "stream",
     "text": [
      "(array([1, 4, 6]),)\n",
      "(array([1, 3, 4, 6, 8]),)\n"
     ]
    }
   ],
   "source": [
    "var=np.array([1,2,3,4,2,5,2,5,6,7])\n",
    "\n",
    "x=np.where(var==2)\n",
    "print(x)\n",
    "x=np.where((var%2)==0)\n",
    "print(x)"
   ]
  },
  {
   "cell_type": "code",
   "execution_count": 37,
   "id": "dea9d9ea-bc6a-49a8-b9fc-d83659c84342",
   "metadata": {},
   "outputs": [
    {
     "name": "stdout",
     "output_type": "stream",
     "text": [
      "4\n",
      "4\n"
     ]
    }
   ],
   "source": [
    "varer=np.array([1,2,3,4,6,7])\n",
    "\n",
    "rx1=np.searchsorted(varer,5)\n",
    "print(rx1)\n",
    "rx2=np.searchsorted(varer, 5, side='right')\n",
    "print(rx2)"
   ]
  },
  {
   "cell_type": "markdown",
   "id": "f09fd464-7363-4681-bcfe-7f483396bcfc",
   "metadata": {},
   "source": [
    "## Sort"
   ]
  },
  {
   "cell_type": "code",
   "execution_count": 39,
   "id": "44fdfcd9-e67b-4730-b11d-e3a66f6200b8",
   "metadata": {},
   "outputs": [
    {
     "name": "stdout",
     "output_type": "stream",
     "text": [
      "[ 0  1  2  2  5  7  9 11 14 30]\n"
     ]
    }
   ],
   "source": [
    "va_1=np.array([11,2,30,14,2,5,1,0,9,7])\n",
    "print(np.sort(va_1))"
   ]
  },
  {
   "cell_type": "code",
   "execution_count": 40,
   "id": "fd707480-b7e2-4fd7-af55-e7d9b4a64d1e",
   "metadata": {},
   "outputs": [
    {
     "name": "stdout",
     "output_type": "stream",
     "text": [
      "['a' 'b' 'd' 'l' 'm']\n"
     ]
    }
   ],
   "source": [
    "var_2=np.array([\"d\",\"a\",\"m\",\"b\",\"l\"])\n",
    "print(np.sort(var_2))"
   ]
  },
  {
   "cell_type": "code",
   "execution_count": 42,
   "id": "be942cb4-5b0e-4aa7-8030-b15c45d7f5ae",
   "metadata": {},
   "outputs": [
    {
     "name": "stdout",
     "output_type": "stream",
     "text": [
      "[[ 2 11]\n",
      " [14 30]\n",
      " [ 2  5]\n",
      " [ 0  1]\n",
      " [ 7  9]]\n"
     ]
    }
   ],
   "source": [
    "va_3=np.array([[11,2],[30,14],[2,5],[1,0],[9,7]])\n",
    "print(np.sort(va_3))\n"
   ]
  },
  {
   "cell_type": "markdown",
   "id": "509877f1-1935-40d5-9cb3-9581e46b4519",
   "metadata": {},
   "source": [
    "## Filter"
   ]
  },
  {
   "cell_type": "code",
   "execution_count": 45,
   "id": "f19198f4-5ccb-4171-9e81-74cb6c06cca2",
   "metadata": {},
   "outputs": [
    {
     "name": "stdout",
     "output_type": "stream",
     "text": [
      "['a' 'f']\n",
      "<class 'numpy.ndarray'>\n"
     ]
    }
   ],
   "source": [
    "vvar=np.array([\"a\",\"s\",\"d\",\"f\"])\n",
    "f=[True,False,False,True]\n",
    "new_a=vvar[f]\n",
    "print(new_a)\n",
    "print(type(new_a))"
   ]
  },
  {
   "cell_type": "code",
   "execution_count": null,
   "id": "152f44ad-8b0f-4952-9794-d431474f9fa2",
   "metadata": {},
   "outputs": [],
   "source": []
  }
 ],
 "metadata": {
  "kernelspec": {
   "display_name": "Python 3 (ipykernel)",
   "language": "python",
   "name": "python3"
  },
  "language_info": {
   "codemirror_mode": {
    "name": "ipython",
    "version": 3
   },
   "file_extension": ".py",
   "mimetype": "text/x-python",
   "name": "python",
   "nbconvert_exporter": "python",
   "pygments_lexer": "ipython3",
   "version": "3.10.13"
  }
 },
 "nbformat": 4,
 "nbformat_minor": 5
}
