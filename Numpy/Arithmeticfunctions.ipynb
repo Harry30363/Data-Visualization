{
 "cells": [
  {
   "cell_type": "code",
   "execution_count": 2,
   "id": "0d93c8c7-36ca-488a-80ab-23e9c9a42402",
   "metadata": {},
   "outputs": [],
   "source": [
    "import numpy as np"
   ]
  },
  {
   "cell_type": "code",
   "execution_count": 4,
   "id": "5fe54bc7-2b67-4511-8797-15e72815cbd0",
   "metadata": {},
   "outputs": [
    {
     "name": "stdout",
     "output_type": "stream",
     "text": [
      "min :  1 0\n",
      "max :  5 4\n",
      "sqrt :  [1.         1.41421356 1.73205081 2.         2.23606798]\n"
     ]
    }
   ],
   "source": [
    "var=np.array([1,2,3,4,5])\n",
    "print(\"min : \",np.min(var),np.argmin(var))\n",
    "print(\"max : \",np.max(var),np.argmax(var))\n",
    "print(\"sqrt : \",np.sqrt(var))"
   ]
  },
  {
   "cell_type": "markdown",
   "id": "233d71a4-3b5c-4a91-9e8c-1ef265c29e8e",
   "metadata": {},
   "source": [
    "np.argmin will give the positon of min element in the array\n",
    "np.argmax will give the position of max element in the array"
   ]
  },
  {
   "cell_type": "markdown",
   "id": "dd5d4432-bf3e-4aa1-9d94-aa5e55a9520a",
   "metadata": {},
   "source": [
    "axis = 0 is for columns\n",
    "axis = 1 is for rows"
   ]
  },
  {
   "cell_type": "code",
   "execution_count": 6,
   "id": "156ddb0a-1acf-468a-9512-d6a0a9c8344f",
   "metadata": {},
   "outputs": [
    {
     "name": "stdout",
     "output_type": "stream",
     "text": [
      "[2 1 3]\n"
     ]
    }
   ],
   "source": [
    "var1=np.array([[2,1,3],[9,5,6]])\n",
    "print(np.min(var1,axis=0))"
   ]
  },
  {
   "cell_type": "code",
   "execution_count": 7,
   "id": "b7789bb7-7212-4f75-b0a1-2599db5a31f9",
   "metadata": {},
   "outputs": [
    {
     "name": "stdout",
     "output_type": "stream",
     "text": [
      "[9 5 6]\n"
     ]
    }
   ],
   "source": [
    "var1=np.array([[2,1,3],[9,5,6]])\n",
    "print(np.max(var1,axis=0))"
   ]
  },
  {
   "cell_type": "code",
   "execution_count": 9,
   "id": "d60ffa43-ff15-4168-b890-3d7aa5d16f6a",
   "metadata": {},
   "outputs": [
    {
     "name": "stdout",
     "output_type": "stream",
     "text": [
      "[4 9]\n"
     ]
    }
   ],
   "source": [
    "var1=np.array([[2,4,3],[9,0,6]])\n",
    "print(np.max(var1,axis=1))"
   ]
  },
  {
   "cell_type": "code",
   "execution_count": 5,
   "id": "69a3adf4-67c0-4270-a124-0e7348ce4fcf",
   "metadata": {},
   "outputs": [
    {
     "name": "stdout",
     "output_type": "stream",
     "text": [
      "[0.84147098 0.90929743 0.14112001]\n",
      "[ 0.54030231 -0.41614684 -0.9899925 ]\n"
     ]
    }
   ],
   "source": [
    "var2=np.array([1,2,3])\n",
    "print(np.sin(var2))\n",
    "print(np.cos(var2))"
   ]
  },
  {
   "cell_type": "markdown",
   "id": "4be9b063-92e2-41ef-8bee-0ce636bf3df0",
   "metadata": {},
   "source": [
    "cumsum: sum of all the elements from all previous elements to the present element"
   ]
  },
  {
   "cell_type": "code",
   "execution_count": 6,
   "id": "5b8dbc19-e3af-4bbb-bb62-67e9d9f39f83",
   "metadata": {},
   "outputs": [
    {
     "name": "stdout",
     "output_type": "stream",
     "text": [
      "[0.84147098 0.90929743 0.14112001]\n",
      "[ 0.54030231 -0.41614684 -0.9899925 ]\n",
      "[1 3 6]\n"
     ]
    }
   ],
   "source": [
    "var2=np.array([1,2,3])\n",
    "print(np.sin(var2))\n",
    "print(np.cos(var2))\n",
    "print(np.cumsum(var2))"
   ]
  }
 ],
 "metadata": {
  "kernelspec": {
   "display_name": "Python 3 (ipykernel)",
   "language": "python",
   "name": "python3"
  },
  "language_info": {
   "codemirror_mode": {
    "name": "ipython",
    "version": 3
   },
   "file_extension": ".py",
   "mimetype": "text/x-python",
   "name": "python",
   "nbconvert_exporter": "python",
   "pygments_lexer": "ipython3",
   "version": "3.10.13"
  }
 },
 "nbformat": 4,
 "nbformat_minor": 5
}
