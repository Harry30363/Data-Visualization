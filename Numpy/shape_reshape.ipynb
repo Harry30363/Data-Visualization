{
 "cells": [
  {
   "cell_type": "code",
   "execution_count": 1,
   "id": "8fddef9c-5495-49dd-a18c-62e807463908",
   "metadata": {},
   "outputs": [],
   "source": [
    "import numpy as np"
   ]
  },
  {
   "cell_type": "code",
   "execution_count": 4,
   "id": "b35d90a7-8cf4-4307-9b57-1d6e047f88f9",
   "metadata": {},
   "outputs": [
    {
     "name": "stdout",
     "output_type": "stream",
     "text": [
      "[[1 2 3 4]\n",
      " [1 2 5 6]]\n",
      "\n",
      "(2, 4)\n"
     ]
    }
   ],
   "source": [
    "var= np.array([[1,2,3,4],[1,2,5,6]])\n",
    "print(var)\n",
    "print()\n",
    "print(var.shape)"
   ]
  },
  {
   "cell_type": "code",
   "execution_count": 6,
   "id": "8b67426c-afe3-4fcd-93d4-971a655b0f93",
   "metadata": {},
   "outputs": [
    {
     "name": "stdout",
     "output_type": "stream",
     "text": [
      "[[[[1 2 3 4]]]]\n",
      "4\n",
      "\n",
      "(1, 1, 1, 4)\n"
     ]
    }
   ],
   "source": [
    "var1=np.array([1,2,3,4],ndmin=4)\n",
    "print(var1)\n",
    "print(var1.ndim)\n",
    "print()\n",
    "print(var1.shape)"
   ]
  },
  {
   "cell_type": "code",
   "execution_count": null,
   "id": "3817c774-e698-49bf-bd4c-c1c7519dcb05",
   "metadata": {},
   "outputs": [],
   "source": [
    "# in the previous 1,1,1 represents that there are there rows and 4 columns but that why written in 1,1,1, no 3 because of 4 dimentions\n"
   ]
  },
  {
   "cell_type": "code",
   "execution_count": null,
   "id": "479243e9-0dd6-4994-bc0f-0368302b1def",
   "metadata": {},
   "outputs": [],
   "source": [
    "\n",
    "##*****RESHAPE *****"
   ]
  },
  {
   "cell_type": "code",
   "execution_count": 18,
   "id": "e945a328-fef2-4178-a34f-ecdc9e82654a",
   "metadata": {},
   "outputs": [
    {
     "name": "stdout",
     "output_type": "stream",
     "text": [
      "[1 2 3 4 5 6]\n",
      "1\n",
      "\n",
      "[[1 2]\n",
      " [3 4]\n",
      " [5 6]]\n",
      "2\n"
     ]
    }
   ],
   "source": [
    "var2= np.array([1,2,3,4,5,6])\n",
    "print(var2)\n",
    "print(var2.ndim)\n",
    "\n",
    "print()\n",
    "\n",
    "x= var2.reshape(3,2)\n",
    "\n",
    "print(x)\n",
    "print(x.ndim)"
   ]
  }
 ],
 "metadata": {
  "kernelspec": {
   "display_name": "Python 3 (ipykernel)",
   "language": "python",
   "name": "python3"
  },
  "language_info": {
   "codemirror_mode": {
    "name": "ipython",
    "version": 3
   },
   "file_extension": ".py",
   "mimetype": "text/x-python",
   "name": "python",
   "nbconvert_exporter": "python",
   "pygments_lexer": "ipython3",
   "version": "3.10.13"
  }
 },
 "nbformat": 4,
 "nbformat_minor": 5
}
