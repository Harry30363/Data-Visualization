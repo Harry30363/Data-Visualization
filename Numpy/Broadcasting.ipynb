{
 "cells": [
  {
   "cell_type": "markdown",
   "id": "cb783cb9-73de-49cf-b193-a672827ca538",
   "metadata": {},
   "source": [
    "## What is broadcasting error ->"
   ]
  },
  {
   "cell_type": "code",
   "execution_count": 1,
   "id": "9fe7168c-183b-470d-aab6-50473d94987c",
   "metadata": {},
   "outputs": [],
   "source": [
    "import numpy as np"
   ]
  },
  {
   "cell_type": "code",
   "execution_count": 2,
   "id": "17d1aa22-8d19-4540-a2bd-c077157ee3bc",
   "metadata": {},
   "outputs": [
    {
     "ename": "ValueError",
     "evalue": "operands could not be broadcast together with shapes (4,) (3,) ",
     "output_type": "error",
     "traceback": [
      "\u001b[0;31m---------------------------------------------------------------------------\u001b[0m",
      "\u001b[0;31mValueError\u001b[0m                                Traceback (most recent call last)",
      "Cell \u001b[0;32mIn[2], line 3\u001b[0m\n\u001b[1;32m      1\u001b[0m var1\u001b[38;5;241m=\u001b[39m np\u001b[38;5;241m.\u001b[39marray([\u001b[38;5;241m1\u001b[39m,\u001b[38;5;241m2\u001b[39m,\u001b[38;5;241m3\u001b[39m,\u001b[38;5;241m4\u001b[39m])\n\u001b[1;32m      2\u001b[0m var2\u001b[38;5;241m=\u001b[39mnp\u001b[38;5;241m.\u001b[39marray([\u001b[38;5;241m1\u001b[39m,\u001b[38;5;241m2\u001b[39m,\u001b[38;5;241m3\u001b[39m])\n\u001b[0;32m----> 3\u001b[0m \u001b[38;5;28mprint\u001b[39m(\u001b[43mvar1\u001b[49m\u001b[43m \u001b[49m\u001b[38;5;241;43m+\u001b[39;49m\u001b[43m \u001b[49m\u001b[43mvar2\u001b[49m)\n",
      "\u001b[0;31mValueError\u001b[0m: operands could not be broadcast together with shapes (4,) (3,) "
     ]
    }
   ],
   "source": [
    "var1= np.array([1,2,3,4])\n",
    "var2=np.array([1,2,3])\n",
    "print(var1 + var2)"
   ]
  },
  {
   "cell_type": "code",
   "execution_count": null,
   "id": "0a80eee1-defd-4b4c-961c-c9cec36d4eba",
   "metadata": {},
   "outputs": [],
   "source": [
    "now broadcast error removed->"
   ]
  },
  {
   "cell_type": "code",
   "execution_count": 3,
   "id": "e06fef47-ae0a-4ebd-8113-748fa8da93df",
   "metadata": {},
   "outputs": [
    {
     "name": "stdout",
     "output_type": "stream",
     "text": [
      "[2 4 6 8]\n"
     ]
    }
   ],
   "source": [
    "var1= np.array([1,2,3,4])\n",
    "var2=np.array([1,2,3,4])\n",
    "print(var1 + var2)"
   ]
  },
  {
   "cell_type": "code",
   "execution_count": null,
   "id": "d8d0f0f1-fb60-470c-b98e-b624b5f06894",
   "metadata": {},
   "outputs": [],
   "source": []
  },
  {
   "cell_type": "code",
   "execution_count": 7,
   "id": "e843f8d0-4b98-4888-ae18-1634de171009",
   "metadata": {},
   "outputs": [
    {
     "name": "stdout",
     "output_type": "stream",
     "text": [
      "[1 2 3]\n",
      "(3,)\n",
      "1\n",
      "\n",
      "[[1]\n",
      " [2]\n",
      " [3]]\n",
      "(3, 1)\n",
      "2\n",
      "\n",
      "[[2 3 4]\n",
      " [3 4 5]\n",
      " [4 5 6]]\n"
     ]
    }
   ],
   "source": [
    "\n",
    "var1= np.array([1,2,3])\n",
    "print(var1)\n",
    "print (var1.shape)\n",
    "print(var1.ndim)\n",
    "print()\n",
    "var2=np.array([[1],[2],[3]])\n",
    "print(var2)\n",
    "print(var2.shape)\n",
    "print(var2.ndim)\n",
    "\n",
    "print()\n",
    "print(var1+var2)"
   ]
  },
  {
   "cell_type": "code",
   "execution_count": null,
   "id": "b3145174-a681-428e-8d54-780fa5e0d60d",
   "metadata": {},
   "outputs": [],
   "source": [
    "## in the above (1,3) (3,1) so we get (3,3) and broaadcasting is possible because one of the row and colomn of both have one "
   ]
  },
  {
   "cell_type": "code",
   "execution_count": 9,
   "id": "fefce258-1b75-4e74-9709-f602b3beb83e",
   "metadata": {},
   "outputs": [
    {
     "name": "stdout",
     "output_type": "stream",
     "text": [
      "[[1]\n",
      " [2]]\n",
      "(2, 1)\n",
      "2\n",
      "\n",
      "[[1 2 3]\n",
      " [1 2 3]]\n",
      "(2, 3)\n",
      "2\n",
      "\n",
      "[[2 3 4]\n",
      " [3 4 5]]\n",
      "(2, 3)\n",
      "2\n"
     ]
    }
   ],
   "source": [
    "x=np.array([[1],[2]])\n",
    "print(x)\n",
    "print(x.shape)\n",
    "print(x.ndim)\n",
    "print()\n",
    "y=np.array([[1,2,3],[1,2,3]])\n",
    "print(y)\n",
    "print(y.shape)\n",
    "print(y.ndim)\n",
    "print()\n",
    "z=(x+y)\n",
    "print(z)\n",
    "print(z.shape)\n",
    "print(z.ndim)"
   ]
  },
  {
   "cell_type": "code",
   "execution_count": null,
   "id": "7d6526fd-352d-475e-8c1c-514b6be2794f",
   "metadata": {},
   "outputs": [],
   "source": [
    "## in the above operation is possible because the no of rows is same but one of the arrays column have one 1 so the final becomes (2,3)"
   ]
  },
  {
   "cell_type": "code",
   "execution_count": null,
   "id": "172c7d0c-bded-43a4-8cc5-f222cf093395",
   "metadata": {},
   "outputs": [],
   "source": []
  }
 ],
 "metadata": {
  "kernelspec": {
   "display_name": "Python 3 (ipykernel)",
   "language": "python",
   "name": "python3"
  },
  "language_info": {
   "codemirror_mode": {
    "name": "ipython",
    "version": 3
   },
   "file_extension": ".py",
   "mimetype": "text/x-python",
   "name": "python",
   "nbconvert_exporter": "python",
   "pygments_lexer": "ipython3",
   "version": "3.10.13"
  }
 },
 "nbformat": 4,
 "nbformat_minor": 5
}
