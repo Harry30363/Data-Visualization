{
 "cells": [
  {
   "cell_type": "markdown",
   "id": "1f46dae3-0313-4eeb-965c-6871158bbc16",
   "metadata": {},
   "source": [
    "Data Types"
   ]
  },
  {
   "cell_type": "code",
   "execution_count": 1,
   "id": "f9c170ad-fd80-4142-b77c-d673141fc3eb",
   "metadata": {},
   "outputs": [],
   "source": [
    "import numpy as np"
   ]
  },
  {
   "cell_type": "code",
   "execution_count": 3,
   "id": "67d5ed24-efd0-4ccf-9bfb-9fb1b3fb75f5",
   "metadata": {},
   "outputs": [
    {
     "name": "stdout",
     "output_type": "stream",
     "text": [
      "Data Type :  int64\n"
     ]
    }
   ],
   "source": [
    "var= np.array([1,2,3,4,5,6,7,8,245])\n",
    "print(\"Data Type : \", var.dtype)"
   ]
  },
  {
   "cell_type": "code",
   "execution_count": 4,
   "id": "132e2c2e-441b-4cd3-bf38-8c685d22b2e7",
   "metadata": {},
   "outputs": [
    {
     "name": "stdout",
     "output_type": "stream",
     "text": [
      "Data Type :  float64\n"
     ]
    }
   ],
   "source": [
    "var= np.array([0.1,0.4,3.3,1.2])\n",
    "print(\"Data Type : \", var.dtype)"
   ]
  },
  {
   "cell_type": "code",
   "execution_count": 5,
   "id": "601dd935-b06b-4e24-8981-3fa3b3f8e2f0",
   "metadata": {},
   "outputs": [
    {
     "name": "stdout",
     "output_type": "stream",
     "text": [
      "Data Type :  <U1\n"
     ]
    }
   ],
   "source": [
    "var=np.array([\"A\",\"B\",\"C\",\"D\",\"F\"])\n",
    "print(\"Data Type : \", var.dtype)"
   ]
  },
  {
   "cell_type": "code",
   "execution_count": 6,
   "id": "31f36475-8664-4284-9bec-12e3e04d380f",
   "metadata": {},
   "outputs": [
    {
     "name": "stdout",
     "output_type": "stream",
     "text": [
      "Data Type :  <U21\n"
     ]
    }
   ],
   "source": [
    "var=np.array([\"A\",\"B\",\"C\",\"D\",\"F\",1,2,3,4])\n",
    "print(\"Data Type : \", var.dtype)"
   ]
  },
  {
   "cell_type": "code",
   "execution_count": 8,
   "id": "5e6099fe-4e56-439f-baf4-42797f7f38b8",
   "metadata": {},
   "outputs": [
    {
     "name": "stdout",
     "output_type": "stream",
     "text": [
      "Data Type :  <U21\n"
     ]
    }
   ],
   "source": [
    "np.array([1,2,3,4,5])\n",
    "print(\"Data Type : \", var.dtype)"
   ]
  },
  {
   "cell_type": "code",
   "execution_count": 3,
   "id": "fb8644c7-f321-41ca-9889-216e2959d213",
   "metadata": {},
   "outputs": [
    {
     "name": "stdout",
     "output_type": "stream",
     "text": [
      "Data Type :  int8\n",
      "[1 2 3 4 5]\n"
     ]
    }
   ],
   "source": [
    "x=np.array([1,2,3,4,5],dtype=np.int8)\n",
    "\n",
    "print(\"Data Type : \",x.dtype)\n",
    "print(x)"
   ]
  },
  {
   "cell_type": "code",
   "execution_count": 4,
   "id": "85aa1ef7-2624-475d-ba0d-55c43e090473",
   "metadata": {},
   "outputs": [
    {
     "name": "stdout",
     "output_type": "stream",
     "text": [
      "Data Type :  int64\n",
      "Data Type :  float32\n",
      "[1 2 3 4]\n",
      "[1. 2. 3. 4.]\n"
     ]
    }
   ],
   "source": [
    "x2= np.array([1,2,3,4])\n",
    "\n",
    "new=np.float32(x2)\n",
    "\n",
    "print(\"Data Type : \",x2.dtype)\n",
    "print(\"Data Type : \",new.dtype)\n",
    "\n",
    "print(x2)\n",
    "print(new)"
   ]
  },
  {
   "cell_type": "code",
   "execution_count": 5,
   "id": "2a310c33-3243-43ff-ab56-bd034f354950",
   "metadata": {},
   "outputs": [
    {
     "name": "stdout",
     "output_type": "stream",
     "text": [
      "Data Type :  int64\n",
      "Data Type :  float32\n",
      "Data Type :  int64\n",
      "[1 2 3 4]\n",
      "[1. 2. 3. 4.]\n",
      "[1 2 3 4]\n"
     ]
    }
   ],
   "source": [
    "x2=np.array([1,2,3,4])\n",
    "new=np.float32(x2)\n",
    "new_one=np.int_(new)\n",
    "\n",
    "print(\"Data Type : \",x2.dtype)\n",
    "print(\"Data Type : \",new.dtype)\n",
    "print(\"Data Type : \",new_one.dtype)\n",
    "\n",
    "print(x2)\n",
    "print(new)\n",
    "print(new_one)"
   ]
  },
  {
   "cell_type": "code",
   "execution_count": 6,
   "id": "b332f48a-a252-451f-979d-308dfebe63d6",
   "metadata": {},
   "outputs": [
    {
     "name": "stdout",
     "output_type": "stream",
     "text": [
      "[1 2 3 4]\n",
      "[1. 2. 3. 4.]\n"
     ]
    }
   ],
   "source": [
    "x3=np.array([1,2,3,4])\n",
    "new_1=x3.astype(float)\n",
    "print(x3)\n",
    "print(new_1)\n"
   ]
  }
 ],
 "metadata": {
  "kernelspec": {
   "display_name": "Python 3 (ipykernel)",
   "language": "python",
   "name": "python3"
  },
  "language_info": {
   "codemirror_mode": {
    "name": "ipython",
    "version": 3
   },
   "file_extension": ".py",
   "mimetype": "text/x-python",
   "name": "python",
   "nbconvert_exporter": "python",
   "pygments_lexer": "ipython3",
   "version": "3.10.13"
  }
 },
 "nbformat": 4,
 "nbformat_minor": 5
}
